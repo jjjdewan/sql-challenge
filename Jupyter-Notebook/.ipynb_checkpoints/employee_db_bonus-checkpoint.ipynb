{
 "cells": [
  {
   "cell_type": "markdown",
   "metadata": {},
   "source": [
    "# A Mystery in Two Parts - Bonus"
   ]
  },
  {
   "cell_type": "markdown",
   "metadata": {},
   "source": [
    "##  Employee Database"
   ]
  },
  {
   "cell_type": "code",
   "execution_count": 1,
   "metadata": {},
   "outputs": [
    {
     "name": "stdout",
     "output_type": "stream",
     "text": [
      "Requirement already satisfied: psycopg2 in /Users/jahangirdewan/anaconda3/lib/python3.8/site-packages (2.8.6)\r\n",
      "Requirement already satisfied: sqlalchemy in /Users/jahangirdewan/anaconda3/lib/python3.8/site-packages (1.3.18)\r\n"
     ]
    }
   ],
   "source": [
    "# Insatll psycopg2 sqlalchemy\n",
    "#\n",
    "!pip install psycopg2 sqlalchemy"
   ]
  },
  {
   "cell_type": "code",
   "execution_count": null,
   "metadata": {},
   "outputs": [],
   "source": [
    "# Dependencies and Setup:\n",
    "#\n",
    "# Import create_engine from sqlalchemy\n",
    "# \n",
    "from sqlalchemy import create_engine\n",
    "\n",
    "# Import pandas as pd\n",
    "import pandas as pd\n",
    "\n",
    "# Import Matplotlib as plt\n",
    "import matplotlib.pyplot as plt\n",
    "\n",
    "# Import NumPy as np\n",
    "import numpy as np"
   ]
  },
  {
   "cell_type": "code",
   "execution_count": null,
   "metadata": {},
   "outputs": [],
   "source": [
    "# Create Engine and Pass in Postgres Connection\n",
    "# Setup to Connect to Database\n",
    "#  Example:\n",
    "#engine = create_engine('postgresql://jahangirdewan:<passwd>@localhost:64405/test-hw')\n",
    "#\n",
    "engine = create_engine('postgresql://localhost:64405/test-hw')\n",
    "\n",
    "connect_me = engine.connect()\n",
    "        "
   ]
  },
  {
   "cell_type": "code",
   "execution_count": null,
   "metadata": {},
   "outputs": [],
   "source": [
    "# Query \"salaries\" table for all the records:\n",
    "#\n",
    "salaries_data = pd.read_sql(\"SELECT * FROM salaries\", connect_me)\n",
    "salaries_data.head()"
   ]
  },
  {
   "cell_type": "code",
   "execution_count": null,
   "metadata": {},
   "outputs": [],
   "source": [
    "# Query \"titles\" table for all the records \n",
    "#\n",
    "titles_data = pd.read_sql(\"SELECT * FROM titles\", connect_me)\n",
    "titles_data.head()"
   ]
  },
  {
   "cell_type": "code",
   "execution_count": null,
   "metadata": {},
   "outputs": [],
   "source": [
    "# Using merge from panda to merge the columns and create a dataframe\n",
    "#\n",
    "combined_data = pd.merge(salaries_data, titles_data, on=\"emp_no\", how=\"inner\")\n",
    "combined_data.head()"
   ]
  },
  {
   "cell_type": "code",
   "execution_count": null,
   "metadata": {},
   "outputs": [],
   "source": [
    "# Using groupby and get mean value\n",
    "#\n",
    "grouped_df = combined_data.groupby(\"title\").mean()\n",
    "grouped_df"
   ]
  },
  {
   "cell_type": "code",
   "execution_count": null,
   "metadata": {},
   "outputs": [],
   "source": [
    "# Drop column \"emp_no\" and display only title and salary\n",
    "#\n",
    "revised_grouped_df = grouped_df.drop(columns = \"emp_no\")\n",
    "revised_grouped_df"
   ]
  },
  {
   "cell_type": "code",
   "execution_count": null,
   "metadata": {},
   "outputs": [],
   "source": [
    "# Reset to the default before another operation\n",
    "#\n",
    "revised_grouped_df = revised_grouped_df.reset_index()\n",
    "revised_grouped_df"
   ]
  },
  {
   "cell_type": "code",
   "execution_count": null,
   "metadata": {},
   "outputs": [],
   "source": [
    "# Set x_axis, y_axis & Tick Locations\n",
    "x_axis = revised_grouped_df[\"title\"]\n",
    "ticks = np.arange(len(x_axis))\n",
    "y_axis = revised_grouped_df[\"salary\"]\n",
    " \n",
    "# Create Bar Chart Based on Above Data\n",
    "plt.bar(x_axis, y_axis, align=\"center\", alpha=0.5, color=[\"k\", \"r\", \"g\", \"m\", \"b\", \"c\", \"y\"])\n",
    "\n",
    "# Create Ticks for Bar Chart's x_axis\n",
    "plt.xticks(ticks, x_axis, rotation=\"vertical\")\n",
    "\n",
    "# Set Labels & Title\n",
    "plt.ylabel(\"Salaries ($)\")\n",
    "plt.xlabel(\"Employee Titles\")\n",
    "plt.title(\"Average Employee Salary by Title\")\n",
    "\n",
    "# Save Figure\n",
    "plt.savefig(\"./Images/average_salary_by_title.png\")\n",
    "\n",
    "# Show plot\n",
    "plt.show()"
   ]
  }
 ],
 "metadata": {
  "kernelspec": {
   "display_name": "Python 3",
   "language": "python",
   "name": "python3"
  },
  "language_info": {
   "codemirror_mode": {
    "name": "ipython",
    "version": 3
   },
   "file_extension": ".py",
   "mimetype": "text/x-python",
   "name": "python",
   "nbconvert_exporter": "python",
   "pygments_lexer": "ipython3",
   "version": "3.8.3"
  }
 },
 "nbformat": 4,
 "nbformat_minor": 2
}
